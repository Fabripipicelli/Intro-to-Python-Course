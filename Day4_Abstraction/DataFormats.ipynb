{
 "cells": [
  {
   "cell_type": "markdown",
   "metadata": {},
   "source": [
    "## Today's Data: Wind Turbine Power\n",
    "\n",
    "This dataset is freely available and was taken from Kaggle: https://www.kaggle.com/berkerisen/wind-turbine-scada-dataset/data\n",
    "\n",
    "It is available as a csv file, and in this notebook we'll convert the data to a variety of formats, discuss pros/cons of each format, and review some Python packages that are useful for working with these formats."
   ]
  },
  {
   "cell_type": "markdown",
   "metadata": {},
   "source": [
    "## Text Formats\n",
    "\n",
    "Text files are binary files that are encoded as text.  There are lots of possible **encodings** out there (full list of Python-supported encodings can be found [in the Python docs](https://docs.python.org/3/library/codecs.html)), and you generally need to know which encoding was used in order to read the file.  Lots of text editors and file readers can **infer** (i.e. guess plus trial-and-error) the encoding, though, so if a commonly-used one (like utf8) is chosen, most programs can read it fine.\n",
    "\n",
    "When a file is easy to open with a text editor, it is said to be \"**human-readable**\".  Sometimes files are not easily opened, though, if they are too big, or if the data is too complex or wide.  Plus, if the data is arranged in a non-standard way, text data can be quite difficult to interpret.\n",
    "\n",
    "In this section, we'll focus on making data **\"machine-readable\"**; that is, stored in a structured manner so that our programs can read them into their own data structures."
   ]
  },
  {
   "cell_type": "markdown",
   "metadata": {},
   "source": [
    "You can open any file in Python with the **open()** function.  The function also takes a **mode**, which you choose depending on the file format and what you want to do:\n",
    "\n",
    "| mode | format | read/write | create new file? |\n",
    "| :--: | :--:   | :--:       | :--:             |\n",
    "| 'r'    | text   | read       | no |\n",
    "| 'w'    | text   | write | yes |\n",
    "| 'a'    | text   | write | no |\n",
    "| 'rb'   | binary | read | no |\n",
    "| 'wb'    | binary   | write | yes |\n",
    "| 'ab'    | binary   | write | no |"
   ]
  },
  {
   "cell_type": "code",
   "execution_count": 1,
   "metadata": {},
   "outputs": [
    {
     "data": {
      "text/plain": [
       "'ï»¿Timestamp,LV ActivePower (kW),Wind Speed (m/s),Theoretical_Power_Curve (KWh),Wind Direction (deg)\\n01 01 2018 00:00,380.047790527343,5.31133604049682,416.328907824861,259.994903564453\\n01 01 2018 00:10,453.76919555664,5.67216682434082,519.917511061494,268.64111328125\\n01 01 2018 00:20,306.3765869140'"
      ]
     },
     "execution_count": 1,
     "metadata": {},
     "output_type": "execute_result"
    }
   ],
   "source": [
    "with open(file='T1.csv', mode='r') as f:\n",
    "    text = f.read()\n",
    "text[:300]"
   ]
  },
  {
   "cell_type": "markdown",
   "metadata": {},
   "source": [
    "Notice that first part?  That section is called the BOM. It helps signal things like endianness and the encoding for encoding inference, but we don't need it.  Let's read it without the BOM by specifying a different encoding:"
   ]
  },
  {
   "cell_type": "code",
   "execution_count": 2,
   "metadata": {},
   "outputs": [
    {
     "data": {
      "text/plain": [
       "'Timestamp,LV ActivePower (kW),Wind Speed (m/s),Theoretical_Power_Curve (KWh),Wind Direction (deg)\\n01 01 2018 00:00,380.047790527343,5.31133604049682,416.328907824861,259.994903564453\\n01 01 2018 00:10,453.76919555664,5.67216682434082,519.917511061494,268.64111328125\\n01 01 2018 00:20,306.376586914062,'"
      ]
     },
     "execution_count": 2,
     "metadata": {},
     "output_type": "execute_result"
    }
   ],
   "source": [
    "with open(file='T1.csv', mode='r', encoding='utf-8-sig') as f:\n",
    "    text = f.read()\n",
    "text[:300]"
   ]
  },
  {
   "cell_type": "markdown",
   "metadata": {},
   "source": [
    "All gone!"
   ]
  },
  {
   "cell_type": "markdown",
   "metadata": {},
   "source": [
    "In the notebook, it is often useful to explicitly **print** text data, as the whitespace characters get properly handled that way:"
   ]
  },
  {
   "cell_type": "code",
   "execution_count": 3,
   "metadata": {},
   "outputs": [
    {
     "name": "stdout",
     "output_type": "stream",
     "text": [
      "Timestamp,LV ActivePower (kW),Wind Speed (m/s),Theoretical_Power_Curve (KWh),Wind Direction (deg)\n",
      "01 01 2018 00:00,380.047790527343,5.31133604049682,416.328907824861,259.994903564453\n",
      "01 01 2018 00:10,453.76919555664,5.67216682434082,519.917511061494,268.64111328125\n",
      "01 01 2018 00:20,306.376586914062,\n"
     ]
    }
   ],
   "source": [
    "print(text[:300])"
   ]
  },
  {
   "cell_type": "markdown",
   "metadata": {},
   "source": [
    "### CSV (Comma-Seperated Values)\n",
    "\n",
    "The turbine data is an example of *Tabular* data, which is an ordered list of same-field records.  Each field may have a different data type, but the key is that each record contains the same data types.  Tabular data can have labeled fields or not.\n",
    "\n",
    "CSV files are a way to encode these records in text format.  Each line of the file represents one record, and fields are seperated (a.k.a. \"delimited\") by some character, usually commas or tabs.  If the fields are labelled, the first line of the file (called the \"header\") will contain the field names.\n",
    "\n",
    "Example CSV File:\n",
    "```\n",
    "month,height,weight\n",
    "Jan,1.2,76\n",
    "Feb,1.21,77\n",
    "March,1.21,76\n",
    "```\n",
    "\n",
    "CSV files are currently the most popular way of storing data, but they have so many variants that passing them around can be quite difficult.  These variants come from the format's simplicity; people keep writing their own CSV writers and parsers, which are often incompatible with other parsers.  There are plenty of options out there already, no need to write your own!"
   ]
  },
  {
   "cell_type": "markdown",
   "metadata": {},
   "source": [
    "#### The csv module\n",
    "\n",
    "Python comes with a nifty csv reader that works quite well!"
   ]
  },
  {
   "cell_type": "code",
   "execution_count": 4,
   "metadata": {},
   "outputs": [
    {
     "data": {
      "text/plain": [
       "['Timestamp',\n",
       " 'LV ActivePower (kW)',\n",
       " 'Wind Speed (m/s)',\n",
       " 'Theoretical_Power_Curve (KWh)',\n",
       " 'Wind Direction (deg)']"
      ]
     },
     "execution_count": 4,
     "metadata": {},
     "output_type": "execute_result"
    }
   ],
   "source": [
    "import csv\n",
    "with open('T1.csv', 'r', encoding='utf-8-sig') as f:\n",
    "    reader = csv.reader(f)\n",
    "    header = next(reader)\n",
    "    data = list(reader)\n",
    "header"
   ]
  },
  {
   "cell_type": "code",
   "execution_count": 5,
   "metadata": {},
   "outputs": [
    {
     "data": {
      "text/plain": [
       "[['01 01 2018 00:00',\n",
       "  '380.047790527343',\n",
       "  '5.31133604049682',\n",
       "  '416.328907824861',\n",
       "  '259.994903564453'],\n",
       " ['01 01 2018 00:10',\n",
       "  '453.76919555664',\n",
       "  '5.67216682434082',\n",
       "  '519.917511061494',\n",
       "  '268.64111328125']]"
      ]
     },
     "execution_count": 5,
     "metadata": {},
     "output_type": "execute_result"
    }
   ],
   "source": [
    "data[:2]"
   ]
  },
  {
   "cell_type": "markdown",
   "metadata": {},
   "source": [
    "Once you have read the data, it can go to a Dataframe or wherever you need it."
   ]
  },
  {
   "cell_type": "code",
   "execution_count": 6,
   "metadata": {},
   "outputs": [
    {
     "data": {
      "text/html": [
       "<div>\n",
       "<style scoped>\n",
       "    .dataframe tbody tr th:only-of-type {\n",
       "        vertical-align: middle;\n",
       "    }\n",
       "\n",
       "    .dataframe tbody tr th {\n",
       "        vertical-align: top;\n",
       "    }\n",
       "\n",
       "    .dataframe thead th {\n",
       "        text-align: right;\n",
       "    }\n",
       "</style>\n",
       "<table border=\"1\" class=\"dataframe\">\n",
       "  <thead>\n",
       "    <tr style=\"text-align: right;\">\n",
       "      <th></th>\n",
       "      <th>Timestamp</th>\n",
       "      <th>LV ActivePower (kW)</th>\n",
       "      <th>Wind Speed (m/s)</th>\n",
       "      <th>Theoretical_Power_Curve (KWh)</th>\n",
       "      <th>Wind Direction (deg)</th>\n",
       "    </tr>\n",
       "  </thead>\n",
       "  <tbody>\n",
       "    <tr>\n",
       "      <th>0</th>\n",
       "      <td>01 01 2018 00:00</td>\n",
       "      <td>380.047790527343</td>\n",
       "      <td>5.31133604049682</td>\n",
       "      <td>416.328907824861</td>\n",
       "      <td>259.994903564453</td>\n",
       "    </tr>\n",
       "    <tr>\n",
       "      <th>1</th>\n",
       "      <td>01 01 2018 00:10</td>\n",
       "      <td>453.76919555664</td>\n",
       "      <td>5.67216682434082</td>\n",
       "      <td>519.917511061494</td>\n",
       "      <td>268.64111328125</td>\n",
       "    </tr>\n",
       "    <tr>\n",
       "      <th>2</th>\n",
       "      <td>01 01 2018 00:20</td>\n",
       "      <td>306.376586914062</td>\n",
       "      <td>5.21603679656982</td>\n",
       "      <td>390.900015810951</td>\n",
       "      <td>272.564788818359</td>\n",
       "    </tr>\n",
       "    <tr>\n",
       "      <th>3</th>\n",
       "      <td>01 01 2018 00:30</td>\n",
       "      <td>419.645904541015</td>\n",
       "      <td>5.65967416763305</td>\n",
       "      <td>516.127568975674</td>\n",
       "      <td>271.258087158203</td>\n",
       "    </tr>\n",
       "    <tr>\n",
       "      <th>4</th>\n",
       "      <td>01 01 2018 00:40</td>\n",
       "      <td>380.650695800781</td>\n",
       "      <td>5.57794094085693</td>\n",
       "      <td>491.702971953588</td>\n",
       "      <td>265.674285888671</td>\n",
       "    </tr>\n",
       "  </tbody>\n",
       "</table>\n",
       "</div>"
      ],
      "text/plain": [
       "          Timestamp LV ActivePower (kW)  Wind Speed (m/s)  \\\n",
       "0  01 01 2018 00:00    380.047790527343  5.31133604049682   \n",
       "1  01 01 2018 00:10     453.76919555664  5.67216682434082   \n",
       "2  01 01 2018 00:20    306.376586914062  5.21603679656982   \n",
       "3  01 01 2018 00:30    419.645904541015  5.65967416763305   \n",
       "4  01 01 2018 00:40    380.650695800781  5.57794094085693   \n",
       "\n",
       "  Theoretical_Power_Curve (KWh) Wind Direction (deg)  \n",
       "0              416.328907824861     259.994903564453  \n",
       "1              519.917511061494      268.64111328125  \n",
       "2              390.900015810951     272.564788818359  \n",
       "3              516.127568975674     271.258087158203  \n",
       "4              491.702971953588     265.674285888671  "
      ]
     },
     "execution_count": 6,
     "metadata": {},
     "output_type": "execute_result"
    }
   ],
   "source": [
    "import pandas as pd\n",
    "df = pd.DataFrame(data=data, columns=header)\n",
    "df.head()"
   ]
  },
  {
   "cell_type": "code",
   "execution_count": 7,
   "metadata": {},
   "outputs": [
    {
     "data": {
      "text/plain": [
       "Timestamp                        object\n",
       "LV ActivePower (kW)              object\n",
       "Wind Speed (m/s)                 object\n",
       "Theoretical_Power_Curve (KWh)    object\n",
       "Wind Direction (deg)             object\n",
       "dtype: object"
      ]
     },
     "execution_count": 7,
     "metadata": {},
     "output_type": "execute_result"
    }
   ],
   "source": [
    "df.dtypes"
   ]
  },
  {
   "cell_type": "markdown",
   "metadata": {},
   "source": [
    "#### Pandas.read_csv()\n",
    "\n",
    "Pandas has a lot of different **read_()** functions, all of which can get the data into a DataFrame.  Most of this notebook will be looking at them.\n",
    "\n",
    "The major advantage of the [read_csv()](https://pandas.pydata.org/pandas-docs/stable/reference/api/pandas.read_csv.html) function is that it has lots of options and does good file format and data format inference.  Notice how it automatically handles the encoding here without us asking!"
   ]
  },
  {
   "cell_type": "code",
   "execution_count": 8,
   "metadata": {},
   "outputs": [
    {
     "data": {
      "text/html": [
       "<div>\n",
       "<style scoped>\n",
       "    .dataframe tbody tr th:only-of-type {\n",
       "        vertical-align: middle;\n",
       "    }\n",
       "\n",
       "    .dataframe tbody tr th {\n",
       "        vertical-align: top;\n",
       "    }\n",
       "\n",
       "    .dataframe thead th {\n",
       "        text-align: right;\n",
       "    }\n",
       "</style>\n",
       "<table border=\"1\" class=\"dataframe\">\n",
       "  <thead>\n",
       "    <tr style=\"text-align: right;\">\n",
       "      <th></th>\n",
       "      <th>Timestamp</th>\n",
       "      <th>LV ActivePower (kW)</th>\n",
       "      <th>Wind Speed (m/s)</th>\n",
       "      <th>Theoretical_Power_Curve (KWh)</th>\n",
       "      <th>Wind Direction (deg)</th>\n",
       "    </tr>\n",
       "  </thead>\n",
       "  <tbody>\n",
       "    <tr>\n",
       "      <th>0</th>\n",
       "      <td>01 01 2018 00:00</td>\n",
       "      <td>380.047791</td>\n",
       "      <td>5.311336</td>\n",
       "      <td>416.328908</td>\n",
       "      <td>259.994904</td>\n",
       "    </tr>\n",
       "    <tr>\n",
       "      <th>1</th>\n",
       "      <td>01 01 2018 00:10</td>\n",
       "      <td>453.769196</td>\n",
       "      <td>5.672167</td>\n",
       "      <td>519.917511</td>\n",
       "      <td>268.641113</td>\n",
       "    </tr>\n",
       "    <tr>\n",
       "      <th>2</th>\n",
       "      <td>01 01 2018 00:20</td>\n",
       "      <td>306.376587</td>\n",
       "      <td>5.216037</td>\n",
       "      <td>390.900016</td>\n",
       "      <td>272.564789</td>\n",
       "    </tr>\n",
       "    <tr>\n",
       "      <th>3</th>\n",
       "      <td>01 01 2018 00:30</td>\n",
       "      <td>419.645905</td>\n",
       "      <td>5.659674</td>\n",
       "      <td>516.127569</td>\n",
       "      <td>271.258087</td>\n",
       "    </tr>\n",
       "    <tr>\n",
       "      <th>4</th>\n",
       "      <td>01 01 2018 00:40</td>\n",
       "      <td>380.650696</td>\n",
       "      <td>5.577941</td>\n",
       "      <td>491.702972</td>\n",
       "      <td>265.674286</td>\n",
       "    </tr>\n",
       "  </tbody>\n",
       "</table>\n",
       "</div>"
      ],
      "text/plain": [
       "          Timestamp  LV ActivePower (kW)  Wind Speed (m/s)  \\\n",
       "0  01 01 2018 00:00           380.047791          5.311336   \n",
       "1  01 01 2018 00:10           453.769196          5.672167   \n",
       "2  01 01 2018 00:20           306.376587          5.216037   \n",
       "3  01 01 2018 00:30           419.645905          5.659674   \n",
       "4  01 01 2018 00:40           380.650696          5.577941   \n",
       "\n",
       "   Theoretical_Power_Curve (KWh)  Wind Direction (deg)  \n",
       "0                     416.328908            259.994904  \n",
       "1                     519.917511            268.641113  \n",
       "2                     390.900016            272.564789  \n",
       "3                     516.127569            271.258087  \n",
       "4                     491.702972            265.674286  "
      ]
     },
     "execution_count": 8,
     "metadata": {},
     "output_type": "execute_result"
    }
   ],
   "source": [
    "import pandas as pd\n",
    "df = pd.read_csv('T1.csv')\n",
    "df.head()"
   ]
  },
  {
   "cell_type": "code",
   "execution_count": 9,
   "metadata": {},
   "outputs": [
    {
     "data": {
      "text/plain": [
       "Timestamp                         object\n",
       "LV ActivePower (kW)              float64\n",
       "Wind Speed (m/s)                 float64\n",
       "Theoretical_Power_Curve (KWh)    float64\n",
       "Wind Direction (deg)             float64\n",
       "dtype: object"
      ]
     },
     "execution_count": 9,
     "metadata": {},
     "output_type": "execute_result"
    }
   ],
   "source": [
    "df.dtypes"
   ]
  },
  {
   "cell_type": "markdown",
   "metadata": {},
   "source": [
    "Now that's pretty simple!"
   ]
  },
  {
   "cell_type": "markdown",
   "metadata": {},
   "source": [
    "### JSON: Javascript Object Notation\n",
    "\n",
    "The next one to look at is JSON.  It's a popular format for transferring data over the web via APIs, and is also a text format. \n",
    "\n",
    "JSON is very similar to the text representation of a Python dictionary and lists. Let's make some JSON and you'll see what I mean:"
   ]
  },
  {
   "cell_type": "code",
   "execution_count": 10,
   "metadata": {},
   "outputs": [
    {
     "name": "stdout",
     "output_type": "stream",
     "text": [
      "\n",
      "{\n",
      "\"day\": \"Saturday\",\n",
      "\"week\": 3,\n",
      "\"isSunny\": true,\n",
      "\"goals\": [\"eat breakfast\", \"write a book\", \"eat lunch\"]\n",
      "}\n",
      "\n"
     ]
    }
   ],
   "source": [
    "data = \"\"\"\n",
    "{\n",
    "\"day\": \"Saturday\",\n",
    "\"week\": 3,\n",
    "\"isSunny\": true,\n",
    "\"goals\": [\"eat breakfast\", \"write a book\", \"eat lunch\"]\n",
    "}\n",
    "\"\"\"\n",
    "print(data)"
   ]
  },
  {
   "cell_type": "markdown",
   "metadata": {},
   "source": [
    "#### The json module"
   ]
  },
  {
   "cell_type": "markdown",
   "metadata": {},
   "source": [
    "Below, I'll use the built-in [**json**](https://docs.python.org/3/library/json.html) module to read the data. \n",
    "\n",
    "The json module has 4 main functions:\n",
    "\n",
    "| function | read/write | file/string |\n",
    "| :---:    | :----:     |  :-----:    |\n",
    "| load()   |  read      | file        |\n",
    "| dump()   |  write     | file        |\n",
    "| loads()  |  read      | string      |\n",
    "| dumps()  |  write     | string      |"
   ]
  },
  {
   "cell_type": "code",
   "execution_count": 11,
   "metadata": {},
   "outputs": [
    {
     "data": {
      "text/plain": [
       "{'day': 'Saturday',\n",
       " 'week': 3,\n",
       " 'isSunny': True,\n",
       " 'goals': ['eat breakfast', 'write a book', 'eat lunch']}"
      ]
     },
     "execution_count": 11,
     "metadata": {},
     "output_type": "execute_result"
    }
   ],
   "source": [
    "import json\n",
    "json.loads(data)"
   ]
  },
  {
   "cell_type": "markdown",
   "metadata": {},
   "source": [
    "The main downside with **hand-writing** JSON is that it is very picky about getting everything right. Even though it's very readable, it should not be considered human writable."
   ]
  },
  {
   "cell_type": "markdown",
   "metadata": {},
   "source": [
    "Tabular data can also be stored in JSON in a variety of ways, called \"orientations\".  Pandas provides support for most of them:\n",
    "\n",
    "- **'split'** : dict like {'index' -> [index], 'columns' -> [columns], 'data' -> [values]}\n",
    "- **'records'** : list like [{column -> value}, ... , {column -> value}]\n",
    "- **'index'** : dict like {index -> {column -> value}}\n",
    "- **'columns'** : dict like {column -> {index -> value}}\n",
    "- **'values'** : just the values array\n",
    "- **'table'** : dict like {'schema': {schema}, 'data': {data}}"
   ]
  },
  {
   "cell_type": "code",
   "execution_count": 12,
   "metadata": {},
   "outputs": [
    {
     "name": "stdout",
     "output_type": "stream",
     "text": [
      "[\n",
      "  {\n",
      "    \"Timestamp\":\"01 01 2018 00:00\",\n",
      "    \"LV ActivePower (kW)\":380.0477905273,\n",
      "    \"Wind Speed (m\\/s)\":5.3113360405,\n",
      "    \"Theoretical_Power_Curve (KWh)\":416.3289078249,\n",
      "    \"Wind Direction (deg)\":259.9949035645\n",
      "  },\n",
      "  {\n",
      "    \"Timestamp\":\"01 01 2018 00:10\",\n",
      "    \"LV ActivePower (kW)\":453.7691955566,\n",
      "    \"Wind Speed (m\\/s)\":5.6721668243,\n",
      "    \"Theoretical_Power_Curve (KWh)\":519.9175110615,\n",
      "    \"Wind Direction (deg)\":268.6411132812\n",
      "  }\n",
      "]\n"
     ]
    }
   ],
   "source": [
    "print(df.head(2).to_json(orient='records', indent=2))"
   ]
  },
  {
   "cell_type": "markdown",
   "metadata": {},
   "source": [
    "## Binary Files\n",
    "\n",
    "\"Binary\" files can represent any file type; conventionally, though, when someone says they have a binary file format, they mean any or all of three things:\n",
    "    \n",
    "1. The file doesn't open in a text editor, or shows a bunch of nonsense characters when opened in a text editor.\n",
    "2. The file is meant to be read by a specific program, and/or\n",
    "3. They don't know what program to use read from the file.\n",
    "   \n",
    "Without documentation, software availability, and version management, these can all be significant hurdles to overcome.  To illustrate it, below is a \"binarized\" version of the dataframe:"
   ]
  },
  {
   "cell_type": "code",
   "execution_count": 13,
   "metadata": {},
   "outputs": [
    {
     "data": {
      "text/html": [
       "<div>\n",
       "<style scoped>\n",
       "    .dataframe tbody tr th:only-of-type {\n",
       "        vertical-align: middle;\n",
       "    }\n",
       "\n",
       "    .dataframe tbody tr th {\n",
       "        vertical-align: top;\n",
       "    }\n",
       "\n",
       "    .dataframe thead th {\n",
       "        text-align: right;\n",
       "    }\n",
       "</style>\n",
       "<table border=\"1\" class=\"dataframe\">\n",
       "  <thead>\n",
       "    <tr style=\"text-align: right;\">\n",
       "      <th></th>\n",
       "      <th>Timestamp</th>\n",
       "      <th>LV ActivePower (kW)</th>\n",
       "      <th>Wind Speed (m/s)</th>\n",
       "      <th>Theoretical_Power_Curve (KWh)</th>\n",
       "      <th>Wind Direction (deg)</th>\n",
       "    </tr>\n",
       "  </thead>\n",
       "  <tbody>\n",
       "    <tr>\n",
       "      <th>0</th>\n",
       "      <td>01 01 2018 00:00</td>\n",
       "      <td>380.047791</td>\n",
       "      <td>5.311336</td>\n",
       "      <td>416.328908</td>\n",
       "      <td>259.994904</td>\n",
       "    </tr>\n",
       "    <tr>\n",
       "      <th>1</th>\n",
       "      <td>01 01 2018 00:10</td>\n",
       "      <td>453.769196</td>\n",
       "      <td>5.672167</td>\n",
       "      <td>519.917511</td>\n",
       "      <td>268.641113</td>\n",
       "    </tr>\n",
       "    <tr>\n",
       "      <th>2</th>\n",
       "      <td>01 01 2018 00:20</td>\n",
       "      <td>306.376587</td>\n",
       "      <td>5.216037</td>\n",
       "      <td>390.900016</td>\n",
       "      <td>272.564789</td>\n",
       "    </tr>\n",
       "  </tbody>\n",
       "</table>\n",
       "</div>"
      ],
      "text/plain": [
       "          Timestamp  LV ActivePower (kW)  Wind Speed (m/s)  \\\n",
       "0  01 01 2018 00:00           380.047791          5.311336   \n",
       "1  01 01 2018 00:10           453.769196          5.672167   \n",
       "2  01 01 2018 00:20           306.376587          5.216037   \n",
       "\n",
       "   Theoretical_Power_Curve (KWh)  Wind Direction (deg)  \n",
       "0                     416.328908            259.994904  \n",
       "1                     519.917511            268.641113  \n",
       "2                     390.900016            272.564789  "
      ]
     },
     "execution_count": 13,
     "metadata": {},
     "output_type": "execute_result"
    }
   ],
   "source": [
    "df.head(3)"
   ]
  },
  {
   "cell_type": "code",
   "execution_count": null,
   "metadata": {},
   "outputs": [],
   "source": [
    "\n"
   ]
  },
  {
   "cell_type": "code",
   "execution_count": 14,
   "metadata": {},
   "outputs": [
    {
     "data": {
      "text/plain": [
       "BinaryFormatter(header='9s19s16s29s20s', body='qdddd')"
      ]
     },
     "execution_count": 14,
     "metadata": {},
     "output_type": "execute_result"
    }
   ],
   "source": [
    "import dataframe_to_binary as df2bin\n",
    "df['Timestamp'] = pd.to_numeric(pd.to_datetime(df['Timestamp'], format=\"%d %m %Y %H:%M\"))\n",
    "fmt = df2bin.to_binary_file(df, filename=\"hi.bin\")\n",
    "fmt"
   ]
  },
  {
   "cell_type": "code",
   "execution_count": 15,
   "metadata": {},
   "outputs": [
    {
     "data": {
      "text/plain": [
       "b'TimestampLV ActivePower (kW)Wind Speed (m/s)Theoretical_Power_Curve (KWh)Wind Direction (deg)\\x00\\x00D^\\x8f\\x86\\x05\\x15\\xf3\\xff\\xff\\xbf\\xc3\\xc0w@\\xf9\\xff\\xff\\xdf\\xce>\\x15@\\xd3\\xf2\\xd94C\\x05z@\\xfe\\xff\\xff\\x1f\\xeb?p@\\x00p\\r\\x11\\x1b\\x87\\x05\\x15\\xf5\\xff\\xff\\x9fN\\\\|@\\x00\\x00\\x00\\x80L\\xb0\\x16@\\xae\\x16\\n\\x10W?\\x80@\\x00\\x00\\x00\\x00B\\xcap@\\x00\\xe0\\xd6\\xc3\\xa6\\x87\\x05\\x15\\xf7\\xff\\xff\\x7f\\x06&s@\\xfb\\xff\\xff\\xbf8\\xdd\\x14@\\xae\\x9e\\xfavfnx@\\xf9\\xff\\xff_\\t\\tq@\\x00P\\xa0v2\\x88\\x05\\x15\\xf5\\xff\\xff\\x9fU:z@\\xf8\\xff\\xff\\x9f\\x81\\xa3\\x16@\\x08\\x14\\xe2B\\x05!\\x80@\\xfe\\xff\\xff\\x1f!\\xf4p@\\x00\\xc0i)\\xbe\\x88\\x05\\x15\\xfc\\xff\\xff?i\\xcaw@\\xfc\\xff\\xff\\xbf\\xcfO\\x16@\\xa7\\xea\\x84_?\\xbb~@\\xf1\\xff\\xff\\xdf\\xc9\\x9ap@\\x0003\\xdcI\\x89\\x05\\x15\\xf5\\xff\\xff\\x9fE&y@\\xf7\\xff\\xff\\x9f\\x8cj\\x16@\\x07 \\xddn\\xfb6\\x7f@\\x00\\x00\\x00\\x00B\\x89p@\\x00\\xa0\\xfc\\x8e\\xd5\\x89\\x05\\x15\\x00\\x00\\x00\\x00\\xb1\\xf9{@\\xfd\\xff\\xff?\\n,\\x17@\\xfa\\xcd\\x9a\\x99\\xfaj\\x81@\\xfe\\xff\\xff\\x1f\\x9e\\xa2p@\\x00\\x10\\xc6Aa\\x8a\\x05\\x15\\x00\\x00\\x00\\x00\\xe03x@\\xf9\\xff\\xff\\x1fe9\\x15@\\xdb\\xc6\\xc2\\xf0^\\xeey@\\xfe\\xff\\xff\\x1f1\\x1fp@\\x00\\x80\\x8f\\xf4\\xec\\x8a\\x05\\x15\\xf9\\xff\\xff_k\\xfa|@\\xff\\xff\\xff\\xff\\xa8V\\x16@\\xf7l\\xc4\\xa9\\xd7\\xda~@\\xde\\xff\\xff\\xdfa\\xafo@\\x00\\xf0X\\xa7x\\x8b\\x05\\x15\\xf7\\xff\\xff\\x7f\\x9c{{@\\xf7\\xff\\xff\\x1f\\xc9\\x17\\x16@\\xa1\\x0f\\x80\\xfbN\\xbb}@\\xf5\\xff\\xff\\x9f\\x94+p@\\x00`\"Z\\x04\\x8c\\x05'"
      ]
     },
     "execution_count": 15,
     "metadata": {},
     "output_type": "execute_result"
    }
   ],
   "source": [
    "with open('hi.bin', 'rb') as f:\n",
    "    data = f.read()\n",
    "data[:500]"
   ]
  },
  {
   "cell_type": "markdown",
   "metadata": {},
   "source": [
    "Opening this in a text editor or with the **open()** function makes most of it look like nonsense!  But with the right program:"
   ]
  },
  {
   "cell_type": "code",
   "execution_count": 16,
   "metadata": {},
   "outputs": [
    {
     "data": {
      "text/html": [
       "<div>\n",
       "<style scoped>\n",
       "    .dataframe tbody tr th:only-of-type {\n",
       "        vertical-align: middle;\n",
       "    }\n",
       "\n",
       "    .dataframe tbody tr th {\n",
       "        vertical-align: top;\n",
       "    }\n",
       "\n",
       "    .dataframe thead th {\n",
       "        text-align: right;\n",
       "    }\n",
       "</style>\n",
       "<table border=\"1\" class=\"dataframe\">\n",
       "  <thead>\n",
       "    <tr style=\"text-align: right;\">\n",
       "      <th></th>\n",
       "      <th>Timestamp</th>\n",
       "      <th>LV ActivePower (kW)</th>\n",
       "      <th>Wind Speed (m/s)</th>\n",
       "      <th>Theoretical_Power_Curve (KWh)</th>\n",
       "      <th>Wind Direction (deg)</th>\n",
       "    </tr>\n",
       "  </thead>\n",
       "  <tbody>\n",
       "    <tr>\n",
       "      <th>0</th>\n",
       "      <td>1514764800000000000</td>\n",
       "      <td>380.047791</td>\n",
       "      <td>5.311336</td>\n",
       "      <td>416.328908</td>\n",
       "      <td>259.994904</td>\n",
       "    </tr>\n",
       "    <tr>\n",
       "      <th>1</th>\n",
       "      <td>1514765400000000000</td>\n",
       "      <td>453.769196</td>\n",
       "      <td>5.672167</td>\n",
       "      <td>519.917511</td>\n",
       "      <td>268.641113</td>\n",
       "    </tr>\n",
       "    <tr>\n",
       "      <th>2</th>\n",
       "      <td>1514766000000000000</td>\n",
       "      <td>306.376587</td>\n",
       "      <td>5.216037</td>\n",
       "      <td>390.900016</td>\n",
       "      <td>272.564789</td>\n",
       "    </tr>\n",
       "    <tr>\n",
       "      <th>3</th>\n",
       "      <td>1514766600000000000</td>\n",
       "      <td>419.645905</td>\n",
       "      <td>5.659674</td>\n",
       "      <td>516.127569</td>\n",
       "      <td>271.258087</td>\n",
       "    </tr>\n",
       "    <tr>\n",
       "      <th>4</th>\n",
       "      <td>1514767200000000000</td>\n",
       "      <td>380.650696</td>\n",
       "      <td>5.577941</td>\n",
       "      <td>491.702972</td>\n",
       "      <td>265.674286</td>\n",
       "    </tr>\n",
       "  </tbody>\n",
       "</table>\n",
       "</div>"
      ],
      "text/plain": [
       "             Timestamp  LV ActivePower (kW)  Wind Speed (m/s)  \\\n",
       "0  1514764800000000000           380.047791          5.311336   \n",
       "1  1514765400000000000           453.769196          5.672167   \n",
       "2  1514766000000000000           306.376587          5.216037   \n",
       "3  1514766600000000000           419.645905          5.659674   \n",
       "4  1514767200000000000           380.650696          5.577941   \n",
       "\n",
       "   Theoretical_Power_Curve (KWh)  Wind Direction (deg)  \n",
       "0                     416.328908            259.994904  \n",
       "1                     519.917511            268.641113  \n",
       "2                     390.900016            272.564789  \n",
       "3                     516.127569            271.258087  \n",
       "4                     491.702972            265.674286  "
      ]
     },
     "execution_count": 16,
     "metadata": {},
     "output_type": "execute_result"
    }
   ],
   "source": [
    "dd = df2bin.from_binary_file(filename=\"hi.bin\", formatter=fmt)\n",
    "dd.head()"
   ]
  },
  {
   "cell_type": "markdown",
   "metadata": {},
   "source": [
    "Back to normal!  Well, except for the timestamp. "
   ]
  },
  {
   "cell_type": "markdown",
   "metadata": {},
   "source": [
    "The main problem with this approach is that it used custom code that isn't tested, isn't available to everyone, and has not been made compatible with a varety of data formats.  We'll look at a few standards out there for storing tabular data in binary formats, but these factors should always be kept in mind.\n",
    "\n",
    "The advantages of using binary files are many, though:\n",
    " - Smaller File Sizes\n",
    " - Supports more features (compression, multiple dataset storage, self-description, etc)\n",
    " - Quicker read/write times\n",
    " - Whole ecosystems of supported software\n",
    " "
   ]
  },
  {
   "cell_type": "markdown",
   "metadata": {},
   "source": [
    "### Pickle\n",
    "\n",
    "Python's [**pickle**](https://docs.python.org/3/library/pickle.html) format makes it easy to store any Python objects.  The main thing to remember, though, is that they will only read back correctly if the Python version and package versions of the readers are the same as the writer, so pickle files are best used in same-computer situations (saving data between sessions on your own computer) or in strongly managed scenarios.\n",
    "\n",
    "The pickle module has the same interface as the json module:\n",
    "\n",
    "| function | read/write | file/string |\n",
    "| :---:    | :----:     |  :-----:    |\n",
    "| load()   |  read      | file        |\n",
    "| dump()   |  write     | file        |\n",
    "| loads()  |  read      | string      |\n",
    "| dumps()  |  write     | string      |"
   ]
  },
  {
   "cell_type": "markdown",
   "metadata": {},
   "source": [
    "#### Pickle module"
   ]
  },
  {
   "cell_type": "code",
   "execution_count": 17,
   "metadata": {},
   "outputs": [],
   "source": [
    "import pickle\n",
    "with open('data.pickle', 'wb') as f:\n",
    "    pickle.dump(df, f)"
   ]
  },
  {
   "cell_type": "code",
   "execution_count": 18,
   "metadata": {},
   "outputs": [
    {
     "data": {
      "text/html": [
       "<div>\n",
       "<style scoped>\n",
       "    .dataframe tbody tr th:only-of-type {\n",
       "        vertical-align: middle;\n",
       "    }\n",
       "\n",
       "    .dataframe tbody tr th {\n",
       "        vertical-align: top;\n",
       "    }\n",
       "\n",
       "    .dataframe thead th {\n",
       "        text-align: right;\n",
       "    }\n",
       "</style>\n",
       "<table border=\"1\" class=\"dataframe\">\n",
       "  <thead>\n",
       "    <tr style=\"text-align: right;\">\n",
       "      <th></th>\n",
       "      <th>Timestamp</th>\n",
       "      <th>LV ActivePower (kW)</th>\n",
       "      <th>Wind Speed (m/s)</th>\n",
       "      <th>Theoretical_Power_Curve (KWh)</th>\n",
       "      <th>Wind Direction (deg)</th>\n",
       "    </tr>\n",
       "  </thead>\n",
       "  <tbody>\n",
       "    <tr>\n",
       "      <th>0</th>\n",
       "      <td>1514764800000000000</td>\n",
       "      <td>380.047791</td>\n",
       "      <td>5.311336</td>\n",
       "      <td>416.328908</td>\n",
       "      <td>259.994904</td>\n",
       "    </tr>\n",
       "    <tr>\n",
       "      <th>1</th>\n",
       "      <td>1514765400000000000</td>\n",
       "      <td>453.769196</td>\n",
       "      <td>5.672167</td>\n",
       "      <td>519.917511</td>\n",
       "      <td>268.641113</td>\n",
       "    </tr>\n",
       "  </tbody>\n",
       "</table>\n",
       "</div>"
      ],
      "text/plain": [
       "             Timestamp  LV ActivePower (kW)  Wind Speed (m/s)  \\\n",
       "0  1514764800000000000           380.047791          5.311336   \n",
       "1  1514765400000000000           453.769196          5.672167   \n",
       "\n",
       "   Theoretical_Power_Curve (KWh)  Wind Direction (deg)  \n",
       "0                     416.328908            259.994904  \n",
       "1                     519.917511            268.641113  "
      ]
     },
     "execution_count": 18,
     "metadata": {},
     "output_type": "execute_result"
    }
   ],
   "source": [
    "with open('data.pickle', 'rb') as f:\n",
    "    data = pickle.load(f)\n",
    "data.head(2)"
   ]
  },
  {
   "cell_type": "markdown",
   "metadata": {},
   "source": [
    "#### Pandas [to_pickle()](https://pandas.pydata.org/pandas-docs/stable/reference/api/pandas.DataFrame.to_pickle.html)"
   ]
  },
  {
   "cell_type": "code",
   "execution_count": 19,
   "metadata": {},
   "outputs": [],
   "source": [
    "df.to_pickle('data.pickle')"
   ]
  },
  {
   "cell_type": "code",
   "execution_count": 20,
   "metadata": {},
   "outputs": [
    {
     "data": {
      "text/html": [
       "<div>\n",
       "<style scoped>\n",
       "    .dataframe tbody tr th:only-of-type {\n",
       "        vertical-align: middle;\n",
       "    }\n",
       "\n",
       "    .dataframe tbody tr th {\n",
       "        vertical-align: top;\n",
       "    }\n",
       "\n",
       "    .dataframe thead th {\n",
       "        text-align: right;\n",
       "    }\n",
       "</style>\n",
       "<table border=\"1\" class=\"dataframe\">\n",
       "  <thead>\n",
       "    <tr style=\"text-align: right;\">\n",
       "      <th></th>\n",
       "      <th>Timestamp</th>\n",
       "      <th>LV ActivePower (kW)</th>\n",
       "      <th>Wind Speed (m/s)</th>\n",
       "      <th>Theoretical_Power_Curve (KWh)</th>\n",
       "      <th>Wind Direction (deg)</th>\n",
       "    </tr>\n",
       "  </thead>\n",
       "  <tbody>\n",
       "    <tr>\n",
       "      <th>0</th>\n",
       "      <td>1514764800000000000</td>\n",
       "      <td>380.047791</td>\n",
       "      <td>5.311336</td>\n",
       "      <td>416.328908</td>\n",
       "      <td>259.994904</td>\n",
       "    </tr>\n",
       "    <tr>\n",
       "      <th>1</th>\n",
       "      <td>1514765400000000000</td>\n",
       "      <td>453.769196</td>\n",
       "      <td>5.672167</td>\n",
       "      <td>519.917511</td>\n",
       "      <td>268.641113</td>\n",
       "    </tr>\n",
       "  </tbody>\n",
       "</table>\n",
       "</div>"
      ],
      "text/plain": [
       "             Timestamp  LV ActivePower (kW)  Wind Speed (m/s)  \\\n",
       "0  1514764800000000000           380.047791          5.311336   \n",
       "1  1514765400000000000           453.769196          5.672167   \n",
       "\n",
       "   Theoretical_Power_Curve (KWh)  Wind Direction (deg)  \n",
       "0                     416.328908            259.994904  \n",
       "1                     519.917511            268.641113  "
      ]
     },
     "execution_count": 20,
     "metadata": {},
     "output_type": "execute_result"
    }
   ],
   "source": [
    "pd.read_pickle('data.pickle').head(2)"
   ]
  },
  {
   "cell_type": "markdown",
   "metadata": {},
   "source": [
    "### Matlab .mat files\n",
    "\n",
    "Matlab also has a specific format, although it has changed in recent years.  The **scipy.io** package has two functions for reading .mat files: [**loadmat()**](https://docs.scipy.org/doc/scipy/reference/generated/scipy.io.loadmat.html) and [**savemat()**](https://docs.scipy.org/doc/scipy/reference/generated/scipy.io.savemat.html)."
   ]
  },
  {
   "cell_type": "code",
   "execution_count": 21,
   "metadata": {},
   "outputs": [],
   "source": [
    "from scipy.io import loadmat, savemat\n",
    "savemat('data.mat', {'data': df.to_records()})"
   ]
  },
  {
   "cell_type": "code",
   "execution_count": 22,
   "metadata": {},
   "outputs": [
    {
     "data": {
      "text/plain": [
       "array([(array([[0]], dtype=int64), array([[1514764800000000000]], dtype=int64), array([[380.04779053]]), array([[5.31133604]]), array([[416.32890782]]), array([[259.99490356]])),\n",
       "       (array([[1]], dtype=int64), array([[1514765400000000000]], dtype=int64), array([[453.76919556]]), array([[5.67216682]]), array([[519.91751106]]), array([[268.64111328]])),\n",
       "       (array([[2]], dtype=int64), array([[1514766000000000000]], dtype=int64), array([[306.37658691]]), array([[5.2160368]]), array([[390.90001581]]), array([[272.56478882]])),\n",
       "       ...,\n",
       "       (array([[50527]], dtype=int64), array([[1546299000000000000]], dtype=int64), array([[2201.10693359]]), array([[8.43535805]]), array([[1788.28475526]]), array([[84.74250031]])),\n",
       "       (array([[50528]], dtype=int64), array([[1546299600000000000]], dtype=int64), array([[2515.6940918]]), array([[9.42136574]]), array([[2418.38250336]]), array([[84.2979126]])),\n",
       "       (array([[50529]], dtype=int64), array([[1546300200000000000]], dtype=int64), array([[2820.46606445]]), array([[9.97933197]]), array([[2779.18409628]]), array([[82.27462006]]))],\n",
       "      dtype=[('index', 'O'), ('Timestamp', 'O'), ('LV ActivePower (kW)', 'O'), ('Wind Speed (m/s)', 'O'), ('Theoretical_Power_Curve (KWh)', 'O'), ('Wind Direction (deg)', 'O')])"
      ]
     },
     "execution_count": 22,
     "metadata": {},
     "output_type": "execute_result"
    }
   ],
   "source": [
    "loadmat('data.mat')['data'][0]"
   ]
  },
  {
   "cell_type": "markdown",
   "metadata": {},
   "source": [
    "It's not great, I know. "
   ]
  },
  {
   "cell_type": "markdown",
   "metadata": {},
   "source": [
    "### HDF5 Files\n",
    "\n",
    "HDF5 (\"Hierarchical Data Format 5\") is a file format that has become quite popular.  It can store a lot of data in a single file (Terabytes, even!), has compression features, and can store many datasets.  It has a filesystem-like organization system inside it, which means you kind of store datasets in the format in their own \"files\" inside the file.  "
   ]
  },
  {
   "cell_type": "markdown",
   "metadata": {},
   "source": [
    "#### pandas [read_hdf()](https://pandas.pydata.org/pandas-docs/stable/reference/api/pandas.read_hdf.html) and [to_hdf()](https://pandas.pydata.org/pandas-docs/stable/reference/api/pandas.DataFrame.to_hdf.html) functions\n",
    "\n",
    "To get data insto an hdf5 file, you need to specify both the filename and the **key**/**group** of the dataset--that's the \"file in a file\".  If you don't give a path, it will put the key in the root group (the \"root folder\")."
   ]
  },
  {
   "cell_type": "code",
   "execution_count": 23,
   "metadata": {},
   "outputs": [],
   "source": [
    "df.to_hdf('data.h5', key='/data', )"
   ]
  },
  {
   "cell_type": "code",
   "execution_count": 24,
   "metadata": {},
   "outputs": [
    {
     "data": {
      "text/html": [
       "<div>\n",
       "<style scoped>\n",
       "    .dataframe tbody tr th:only-of-type {\n",
       "        vertical-align: middle;\n",
       "    }\n",
       "\n",
       "    .dataframe tbody tr th {\n",
       "        vertical-align: top;\n",
       "    }\n",
       "\n",
       "    .dataframe thead th {\n",
       "        text-align: right;\n",
       "    }\n",
       "</style>\n",
       "<table border=\"1\" class=\"dataframe\">\n",
       "  <thead>\n",
       "    <tr style=\"text-align: right;\">\n",
       "      <th></th>\n",
       "      <th>Timestamp</th>\n",
       "      <th>LV ActivePower (kW)</th>\n",
       "      <th>Wind Speed (m/s)</th>\n",
       "      <th>Theoretical_Power_Curve (KWh)</th>\n",
       "      <th>Wind Direction (deg)</th>\n",
       "    </tr>\n",
       "  </thead>\n",
       "  <tbody>\n",
       "    <tr>\n",
       "      <th>0</th>\n",
       "      <td>1514764800000000000</td>\n",
       "      <td>380.047791</td>\n",
       "      <td>5.311336</td>\n",
       "      <td>416.328908</td>\n",
       "      <td>259.994904</td>\n",
       "    </tr>\n",
       "    <tr>\n",
       "      <th>1</th>\n",
       "      <td>1514765400000000000</td>\n",
       "      <td>453.769196</td>\n",
       "      <td>5.672167</td>\n",
       "      <td>519.917511</td>\n",
       "      <td>268.641113</td>\n",
       "    </tr>\n",
       "    <tr>\n",
       "      <th>2</th>\n",
       "      <td>1514766000000000000</td>\n",
       "      <td>306.376587</td>\n",
       "      <td>5.216037</td>\n",
       "      <td>390.900016</td>\n",
       "      <td>272.564789</td>\n",
       "    </tr>\n",
       "    <tr>\n",
       "      <th>3</th>\n",
       "      <td>1514766600000000000</td>\n",
       "      <td>419.645905</td>\n",
       "      <td>5.659674</td>\n",
       "      <td>516.127569</td>\n",
       "      <td>271.258087</td>\n",
       "    </tr>\n",
       "    <tr>\n",
       "      <th>4</th>\n",
       "      <td>1514767200000000000</td>\n",
       "      <td>380.650696</td>\n",
       "      <td>5.577941</td>\n",
       "      <td>491.702972</td>\n",
       "      <td>265.674286</td>\n",
       "    </tr>\n",
       "  </tbody>\n",
       "</table>\n",
       "</div>"
      ],
      "text/plain": [
       "             Timestamp  LV ActivePower (kW)  Wind Speed (m/s)  \\\n",
       "0  1514764800000000000           380.047791          5.311336   \n",
       "1  1514765400000000000           453.769196          5.672167   \n",
       "2  1514766000000000000           306.376587          5.216037   \n",
       "3  1514766600000000000           419.645905          5.659674   \n",
       "4  1514767200000000000           380.650696          5.577941   \n",
       "\n",
       "   Theoretical_Power_Curve (KWh)  Wind Direction (deg)  \n",
       "0                     416.328908            259.994904  \n",
       "1                     519.917511            268.641113  \n",
       "2                     390.900016            272.564789  \n",
       "3                     516.127569            271.258087  \n",
       "4                     491.702972            265.674286  "
      ]
     },
     "execution_count": 24,
     "metadata": {},
     "output_type": "execute_result"
    }
   ],
   "source": [
    "pd.read_hdf('data.h5', key='/data').head()"
   ]
  },
  {
   "cell_type": "markdown",
   "metadata": {},
   "source": [
    "One additional thing to know is that Pandas uses different libraries to save the file depending on the \"format\" you specify:\n",
    "\n",
    "| format | package | description |\n",
    "| :---:  | :-----: | :--------- |\n",
    "| \"table\" | pytables | compression and out-of-core querying, but only pytables compatible |\n",
    "| \"fixed\" | h5py  | somewhat simpler data format |"
   ]
  },
  {
   "cell_type": "markdown",
   "metadata": {},
   "source": [
    "#### [h5py](http://docs.h5py.org/en/stable/)\n",
    "\n",
    "h5py is a low-level file writer and parser for hdf5.  Though it's low-level, it's quite easy to use, and I generally prefer to use it to have more control over how the HDF5 files are formatted."
   ]
  },
  {
   "cell_type": "code",
   "execution_count": null,
   "metadata": {},
   "outputs": [],
   "source": [
    "import h5py\n",
    "with h5py.File('data.h5', 'w') as f:\n",
    "    f.create_dataset(\"data\", data=df.to_records())"
   ]
  },
  {
   "cell_type": "code",
   "execution_count": null,
   "metadata": {},
   "outputs": [],
   "source": [
    "with h5py.File('data.h5') as f:\n",
    "    data = f['data'][:]"
   ]
  }
 ],
 "metadata": {
  "kernelspec": {
   "display_name": "Python 3",
   "language": "python",
   "name": "python3"
  },
  "language_info": {
   "codemirror_mode": {
    "name": "ipython",
    "version": 3
   },
   "file_extension": ".py",
   "mimetype": "text/x-python",
   "name": "python",
   "nbconvert_exporter": "python",
   "pygments_lexer": "ipython3",
   "version": "3.7.4"
  }
 },
 "nbformat": 4,
 "nbformat_minor": 4
}
