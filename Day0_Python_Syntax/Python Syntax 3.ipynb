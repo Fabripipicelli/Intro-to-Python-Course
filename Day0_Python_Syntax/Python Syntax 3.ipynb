{
 "cells": [
  {
   "cell_type": "markdown",
   "metadata": {},
   "source": [
    "# Intro to Python Syntax, Part 3\n",
    "## Code and Data Assignment"
   ]
  },
  {
   "cell_type": "markdown",
   "metadata": {
    "slideshow": {
     "slide_type": "slide"
    }
   },
   "source": [
    "## Python as an Ecosystem of Functions\n",
    "\n",
    "There are millions of functions that can be used in Python.  To access them, you first have to **import** their **packages/modules**.  Then you can specify the functions inside the packages using the following syntax:\n",
    "\n",
    "```python\n",
    "import package\n",
    "output = package.function(input)\n",
    "```\n",
    "\n",
    "Sometimes, packages have **subpackages** that contain functions, too:\n",
    "\n",
    "```python\n",
    "output = package.subpackage.function(input)\n",
    "```\n",
    "\n",
    "If you only need one subpackage in a function, you can make your lines shorter by importing the subpackage directly:\n",
    "\n",
    "```python\n",
    "from package import subpackage\n",
    "output = subpackage.function(input)\n",
    "```\n",
    "\n",
    "To get a list of functions in a package, try using the **dir()** function.  To learn what the function does, try the **help()** function.\n",
    "\n",
    "```python\n",
    "import math\n",
    "dir(math)\n",
    "help(math.sqrt)\n",
    "```\n"
   ]
  },
  {
   "cell_type": "markdown",
   "metadata": {
    "slideshow": {
     "slide_type": "subslide"
    }
   },
   "source": [
    "Let's try out the built-in **math** and **statistics** packages to do some calculating!"
   ]
  },
  {
   "cell_type": "markdown",
   "metadata": {
    "slideshow": {
     "slide_type": "fragment"
    }
   },
   "source": [
    "What is the mean of all the integers from 1 to 6?"
   ]
  },
  {
   "cell_type": "code",
   "execution_count": null,
   "metadata": {},
   "outputs": [],
   "source": []
  },
  {
   "cell_type": "markdown",
   "metadata": {
    "slideshow": {
     "slide_type": "fragment"
    }
   },
   "source": [
    "What is the standard deviation of the integers from 1 to 6?"
   ]
  },
  {
   "cell_type": "code",
   "execution_count": null,
   "metadata": {},
   "outputs": [],
   "source": []
  },
  {
   "cell_type": "markdown",
   "metadata": {
    "slideshow": {
     "slide_type": "subslide"
    }
   },
   "source": [
    "What is the square root of 72?"
   ]
  },
  {
   "cell_type": "code",
   "execution_count": null,
   "metadata": {},
   "outputs": [],
   "source": []
  },
  {
   "cell_type": "markdown",
   "metadata": {
    "slideshow": {
     "slide_type": "fragment"
    }
   },
   "source": [
    "What is pi?"
   ]
  },
  {
   "cell_type": "code",
   "execution_count": null,
   "metadata": {},
   "outputs": [],
   "source": []
  },
  {
   "cell_type": "markdown",
   "metadata": {
    "slideshow": {
     "slide_type": "fragment"
    }
   },
   "source": [
    "What how many radians are in 360 degrees?"
   ]
  },
  {
   "cell_type": "code",
   "execution_count": null,
   "metadata": {},
   "outputs": [],
   "source": []
  },
  {
   "cell_type": "markdown",
   "metadata": {
    "slideshow": {
     "slide_type": "subslide"
    }
   },
   "source": [
    "Can you find a package that might have functions for random numbers?  Use it to generate a couple random numbers!"
   ]
  },
  {
   "cell_type": "code",
   "execution_count": 15,
   "metadata": {},
   "outputs": [],
   "source": []
  },
  {
   "cell_type": "markdown",
   "metadata": {
    "slideshow": {
     "slide_type": "fragment"
    }
   },
   "source": [
    "Look for names of some more built-in packages online!  Try importing them here."
   ]
  },
  {
   "cell_type": "code",
   "execution_count": null,
   "metadata": {},
   "outputs": [],
   "source": []
  },
  {
   "cell_type": "markdown",
   "metadata": {
    "slideshow": {
     "slide_type": "slide"
    }
   },
   "source": [
    "## Python as State Machine\n",
    "\n",
    "Python can save all of its **objects** to your computer's internal memory by **assigning** a a **name** to it.  This is like giving the object a tag that can be referenced later, and it has many subtleties that we'll be exploring throughout the course.  Here's the syntax:\n",
    "\n",
    "```\n",
    "name = data\n",
    "```\n",
    "\n",
    "For example:\n",
    "\n",
    "```python\n",
    "x = 3\n",
    "nick = 100\n",
    "j_people = [\"John\", \"Jeff\", \"Judy\", \"Jenny\"]\n",
    "x2 = 4\n",
    "```\n",
    "\n",
    "While it looks like a normal math expression, this is, in reality, a **statement**; it changes the state of the program.  Let's explore it here:\n",
    "\n"
   ]
  },
  {
   "cell_type": "markdown",
   "metadata": {
    "slideshow": {
     "slide_type": "subslide"
    }
   },
   "source": [
    "#### Exercises"
   ]
  },
  {
   "cell_type": "markdown",
   "metadata": {
    "slideshow": {
     "slide_type": "fragment"
    }
   },
   "source": [
    "What should **x** equal?\n",
    "```python\n",
    "x = 3\n",
    "x = 4\n",
    "```"
   ]
  },
  {
   "cell_type": "code",
   "execution_count": null,
   "metadata": {},
   "outputs": [],
   "source": []
  },
  {
   "cell_type": "markdown",
   "metadata": {
    "slideshow": {
     "slide_type": "subslide"
    }
   },
   "source": [
    "```python\n",
    "x = 3\n",
    "x = x + 1\n",
    "x = x + 1\n",
    "x = x + 1\n",
    "```"
   ]
  },
  {
   "cell_type": "code",
   "execution_count": null,
   "metadata": {},
   "outputs": [],
   "source": []
  },
  {
   "cell_type": "markdown",
   "metadata": {
    "slideshow": {
     "slide_type": "fragment"
    }
   },
   "source": [
    "```python\n",
    "x = 3\n",
    "x += 1\n",
    "x += 1\n",
    "x += 1\n",
    "```"
   ]
  },
  {
   "cell_type": "code",
   "execution_count": null,
   "metadata": {},
   "outputs": [],
   "source": []
  },
  {
   "cell_type": "markdown",
   "metadata": {
    "slideshow": {
     "slide_type": "subslide"
    }
   },
   "source": [
    "```python\n",
    "x = \"Nick\"\n",
    "x = 0\n",
    "```"
   ]
  },
  {
   "cell_type": "code",
   "execution_count": null,
   "metadata": {},
   "outputs": [],
   "source": []
  },
  {
   "cell_type": "markdown",
   "metadata": {
    "slideshow": {
     "slide_type": "subslide"
    }
   },
   "source": [
    "```python\n",
    "max = sum\n",
    "x = max([1, 2, 3])\n",
    "```"
   ]
  },
  {
   "cell_type": "code",
   "execution_count": null,
   "metadata": {},
   "outputs": [],
   "source": []
  },
  {
   "cell_type": "markdown",
   "metadata": {
    "slideshow": {
     "slide_type": "fragment"
    }
   },
   "source": [
    "```python\n",
    "max = sum\n",
    "x = sum([1, 2, 3])\n",
    "```"
   ]
  },
  {
   "cell_type": "code",
   "execution_count": null,
   "metadata": {},
   "outputs": [],
   "source": []
  },
  {
   "cell_type": "markdown",
   "metadata": {
    "slideshow": {
     "slide_type": "subslide"
    }
   },
   "source": [
    "```python\n",
    "x = [1, 2, 3]\n",
    "x[1] = 4\n",
    "```"
   ]
  },
  {
   "cell_type": "code",
   "execution_count": null,
   "metadata": {},
   "outputs": [],
   "source": []
  },
  {
   "cell_type": "markdown",
   "metadata": {
    "slideshow": {
     "slide_type": "fragment"
    }
   },
   "source": [
    "```python\n",
    "x = [1, 2, 3]\n",
    "x[-1] = 4\n",
    "```"
   ]
  },
  {
   "cell_type": "code",
   "execution_count": null,
   "metadata": {},
   "outputs": [],
   "source": []
  },
  {
   "cell_type": "markdown",
   "metadata": {
    "slideshow": {
     "slide_type": "fragment"
    }
   },
   "source": [
    "```python\n",
    "x = [1, 2, 3]\n",
    "x[0] = 4\n",
    "```"
   ]
  },
  {
   "cell_type": "code",
   "execution_count": null,
   "metadata": {},
   "outputs": [],
   "source": []
  },
  {
   "cell_type": "markdown",
   "metadata": {},
   "source": [
    "```python\n",
    "x = [1, 2, 3]\n",
    "x = x[1]\n",
    "x *= 2\n",
    "```"
   ]
  },
  {
   "cell_type": "code",
   "execution_count": null,
   "metadata": {},
   "outputs": [],
   "source": []
  },
  {
   "cell_type": "markdown",
   "metadata": {},
   "source": [
    "### Mapping Collections: Transforming Each Element of a Collection\n",
    "\n",
    "Often, you want to do something to the data inside your collection--double it, increase it, compute some metric, etc.  \n",
    "At the end, you still have the same *number* of elements, but the values themselves have changed.  \n",
    "We will be looking at lots of ways to accomplish this in  Python, but first we're going to use a **for-loop** in a format called a **comprehension**.\n",
    "\n",
    "Comprehensions produce a new collection containing new values *\"for each\"* value *in* the original collection.  They look like this:\n",
    "\n",
    "```python\n",
    ">>> data = [1, 2, 3]\n",
    ">>> list(x * 2 for x in data)\n",
    "[1, 4, 9]\n",
    "```\n",
    "\n",
    "The code above does the same as the following:\n",
    "```python\n",
    ">>> data = [1, 2, 3]\n",
    ">>> [data[0] * 2, data[1] * 2, data[2] * 2]\n",
    "[1, 4, 9]\n",
    "```\n",
    "\n",
    "Another example:\n",
    "\n",
    "```python\n",
    ">>> data = [1, 2, 3]\n",
    ">>> tuple(math.sqrt(value) + 2 for value in data)\n",
    "(3.0, 3.414, 3.732)\n",
    "```\n",
    "\n",
    "```python\n",
    ">>> data = [1, 2, 3]\n",
    ">>> (math.sqrt(data[0]) + 2, math.sqrt(data[1]) + 2, math.sqrt(data[2]) + 2)\n",
    "(3.0, 3.414, 3.732)\n",
    "```\n",
    "\n",
    "Notice that the variable **x** and **value** are created without using the assignment operator! You can name this anything you want, and it is created anew for each individual element of the collection.\n",
    "\n",
    "For lists, Python has a shortcut (called a **list comprehension**):\n",
    "\n",
    "```python\n",
    ">>> data = [1, 2, 3]\n",
    ">>> [x * 2 for x in data]\n",
    "[1, 4, 9]\n",
    "```\n",
    "\n",
    "There is also one for dict (**\"dict comprehensions\"**), but not for any other type.  See below:\n",
    "\n",
    "```python\n",
    ">>> data = [1, 2, 3]\n",
    ">>> {x: x * 2 for x in data}\n",
    "{1: 1, 2: 4, 3: 9}\n",
    "```"
   ]
  },
  {
   "cell_type": "markdown",
   "metadata": {},
   "source": [
    "**Exercises**: Transform each value in the given collection into the requested collection type using the requested transformation\n",
    "\n",
    "Example: A tuple of each value in \"data\", with each value increased by 3\n",
    "```python\n",
    ">>> data = [10, 20, 30]\n",
    ">>> tuple(x + 3 for x in data)\n",
    "(13, 23, 33)\n",
    "```"
   ]
  },
  {
   "cell_type": "markdown",
   "metadata": {},
   "source": [
    "1. Make a list that adds 1 to each value in \"data\":"
   ]
  },
  {
   "cell_type": "code",
   "execution_count": 5,
   "metadata": {},
   "outputs": [],
   "source": [
    "data = [1, 2, 3]"
   ]
  },
  {
   "cell_type": "markdown",
   "metadata": {},
   "source": [
    "2. Make a tuple that calculates the absolute value of each element in \"data\", using the built-in abs() function:"
   ]
  },
  {
   "cell_type": "code",
   "execution_count": 6,
   "metadata": {},
   "outputs": [],
   "source": [
    "data = (-2, -1, 0, 1, 2)"
   ]
  },
  {
   "cell_type": "markdown",
   "metadata": {},
   "source": [
    "2b. Make a list of the cosines of each value in \"data\":"
   ]
  },
  {
   "cell_type": "code",
   "execution_count": 31,
   "metadata": {},
   "outputs": [],
   "source": [
    "data = (-2, -1, 0, 1, 2, 3)"
   ]
  },
  {
   "cell_type": "markdown",
   "metadata": {},
   "source": [
    "2c. Round all these numbers to the nearest integer (use the \"round()\" function):"
   ]
  },
  {
   "cell_type": "code",
   "execution_count": 33,
   "metadata": {},
   "outputs": [],
   "source": [
    "data = [1.2, 1.5, 0.7, -2.1]"
   ]
  },
  {
   "cell_type": "markdown",
   "metadata": {},
   "source": [
    "3. Make a list of all the first letters of each name in the list:"
   ]
  },
  {
   "cell_type": "code",
   "execution_count": 8,
   "metadata": {},
   "outputs": [],
   "source": [
    "data = [\"John\", \"Harry\", \"Moe\", \"Luke\"]"
   ]
  },
  {
   "cell_type": "markdown",
   "metadata": {},
   "source": [
    "4. Make a tuple of the lengths of each name:"
   ]
  },
  {
   "cell_type": "code",
   "execution_count": 9,
   "metadata": {},
   "outputs": [],
   "source": [
    "data = [\"John\", \"Harry\", \"Moe\", \"Luke\"]"
   ]
  },
  {
   "cell_type": "markdown",
   "metadata": {},
   "source": [
    "5. Make a dictionary that maps all the words in the list to their length:"
   ]
  },
  {
   "cell_type": "code",
   "execution_count": 13,
   "metadata": {},
   "outputs": [],
   "source": [
    "data = [\"John\", \"Harry\", \"Moe\", \"Luke\"]"
   ]
  },
  {
   "cell_type": "markdown",
   "metadata": {},
   "source": [
    "6. Make a set of all the word lengths in the tuple:"
   ]
  },
  {
   "cell_type": "code",
   "execution_count": 14,
   "metadata": {},
   "outputs": [],
   "source": [
    "data = (\"John\", \"Harry\", \"Moe\", \"Luke\")"
   ]
  },
  {
   "cell_type": "markdown",
   "metadata": {},
   "source": [
    "### Filtering Collections\n",
    "\n",
    "What if you only want to include *some* values in a collection?  With the **if** statement and a **logical expression**, you can do it in a comprehension!  For example:\n",
    "\n",
    "```python\n",
    ">>> data = [1, 2, 3, 4]\n",
    ">>> [x for x in data if x > 2]\n",
    "[3, 4]\n",
    "```\n",
    "\n",
    "This can be combined with various transformations as well!\n",
    "\n",
    "```python\n",
    ">>> data = [\"John\", \"Harry\", \"Moe\", \"Luke\"]\n",
    ">>> [x[0] for x in data if len(x) < 5]\n",
    "[\"J\", \"M\", \"L\"]\n",
    "```"
   ]
  },
  {
   "cell_type": "markdown",
   "metadata": {},
   "source": [
    "**Exercises**:"
   ]
  },
  {
   "cell_type": "markdown",
   "metadata": {},
   "source": [
    "Get All positive values in the following list:"
   ]
  },
  {
   "cell_type": "code",
   "execution_count": 25,
   "metadata": {},
   "outputs": [],
   "source": [
    "data = [-6, 3, -1, 10, -5, 0]"
   ]
  },
  {
   "cell_type": "markdown",
   "metadata": {},
   "source": [
    "Make a tuple of all names that start with the letter \"L\":"
   ]
  },
  {
   "cell_type": "code",
   "execution_count": null,
   "metadata": {},
   "outputs": [],
   "source": [
    "data = (\"John\", \"Harry\", \"Moe\", \"Luke\")"
   ]
  },
  {
   "cell_type": "markdown",
   "metadata": {},
   "source": [
    "Make a list of all names that have more than 3 letters in the name:"
   ]
  },
  {
   "cell_type": "code",
   "execution_count": 26,
   "metadata": {},
   "outputs": [],
   "source": [
    "data = (\"John\", \"Harry\", \"Moe\", \"Luke\")"
   ]
  },
  {
   "cell_type": "markdown",
   "metadata": {},
   "source": [
    "Make a list of the last letter of all names that have more than 3 letters in the name:"
   ]
  },
  {
   "cell_type": "code",
   "execution_count": 27,
   "metadata": {},
   "outputs": [],
   "source": [
    "data = (\"John\", \"Harry\", \"Moe\", \"Luke\")"
   ]
  },
  {
   "cell_type": "markdown",
   "metadata": {},
   "source": [
    "Make a list of all values who have positive cosines:"
   ]
  },
  {
   "cell_type": "code",
   "execution_count": 28,
   "metadata": {},
   "outputs": [],
   "source": [
    "data = [1, 2, 3, 4, 5, 6, 7]"
   ]
  },
  {
   "cell_type": "markdown",
   "metadata": {},
   "source": [
    "Make a dictionary, mapping each name to its length, but only if the sine of its length is positive:"
   ]
  },
  {
   "cell_type": "code",
   "execution_count": 34,
   "metadata": {},
   "outputs": [],
   "source": [
    "data = [\"John\", \"Harry\", \"Moe\", \"Luke\"]"
   ]
  },
  {
   "cell_type": "markdown",
   "metadata": {},
   "source": [
    "### Combining Them: Filtering, Transforming, and Aggregating\n",
    "\n",
    "Okay, let's combine everything together into a single step!  To get the minimum value of the squares of all values less than 0 in the following list:\n",
    "\n",
    "```python\n",
    ">>> data = [-5, -3, 1, 2, 3]\n",
    ">>> min(x ** 2 for x in data if x < 0)\n",
    "9\n",
    "```\n",
    "\n",
    "Let's try it out!"
   ]
  },
  {
   "cell_type": "markdown",
   "metadata": {},
   "source": [
    "**Exercises**:"
   ]
  },
  {
   "cell_type": "markdown",
   "metadata": {},
   "source": [
    "The sum of all squares for all values in the dataset [1, 7, 3, 4, 9] greater than 4."
   ]
  },
  {
   "cell_type": "code",
   "execution_count": null,
   "metadata": {},
   "outputs": [],
   "source": []
  },
  {
   "cell_type": "markdown",
   "metadata": {},
   "source": [
    "The minimum length of all names in the list who has at least 4 unique letters in their name: [\"Bobby\", \"Cindy\", \"Anna\", \"Joshua\", \"Alan\", \"Hannah\", \"Jeffrey\"]"
   ]
  },
  {
   "cell_type": "code",
   "execution_count": null,
   "metadata": {},
   "outputs": [],
   "source": []
  },
  {
   "cell_type": "markdown",
   "metadata": {},
   "source": [
    "The total length of all the names in the list that starts with an \"R\": [\"Joey\", \"Monica\", \"Chandler\", \"Rachel\", \"Ross\", \"Phoebe\"]"
   ]
  },
  {
   "cell_type": "code",
   "execution_count": null,
   "metadata": {},
   "outputs": [],
   "source": []
  },
  {
   "cell_type": "code",
   "execution_count": null,
   "metadata": {},
   "outputs": [],
   "source": []
  },
  {
   "cell_type": "markdown",
   "metadata": {},
   "source": [
    "### Chaining Them: Repeatedly Filtering and Transforming before Aggregating\n",
    "Often, data analysis pipelines require multiple repeated transforms and filters before the analysis is complete.  This can get quite unwieldy, to say the least.  For example:"
   ]
  },
  {
   "cell_type": "code",
   "execution_count": 21,
   "metadata": {},
   "outputs": [
    {
     "data": {
      "text/plain": [
       "(16,)"
      ]
     },
     "execution_count": 21,
     "metadata": {},
     "output_type": "execute_result"
    }
   ],
   "source": [
    "tuple(x for x in (x ** 2 for x in (len(x) for x in (x for x in [\"Joey\", \"Monica\", \"Chandler\", \"Rachel\", \"Ross\", \"Phoebe\"]) if x[0] == 'R') if x < 10) if x < 36)"
   ]
  },
  {
   "cell_type": "markdown",
   "metadata": {},
   "source": [
    "You could split this into multiple lines, but it doesn't always help keep it readable.  For example:"
   ]
  },
  {
   "cell_type": "code",
   "execution_count": 22,
   "metadata": {},
   "outputs": [
    {
     "data": {
      "text/plain": [
       "(16,)"
      ]
     },
     "execution_count": 22,
     "metadata": {},
     "output_type": "execute_result"
    }
   ],
   "source": [
    "tuple \\\n",
    "(x for x in \n",
    "(x ** 2 for x in \n",
    "(len(x) for x in\n",
    "(x for x in \n",
    "[\"Joey\", \"Monica\", \"Chandler\", \"Rachel\", \"Ross\", \"Phoebe\"])\n",
    "if x[0] == 'R')\n",
    "if x < 10) \n",
    "if x < 36)"
   ]
  },
  {
   "cell_type": "markdown",
   "metadata": {},
   "source": [
    "The simplest way is to just split it into multiple steps:"
   ]
  },
  {
   "cell_type": "code",
   "execution_count": 24,
   "metadata": {},
   "outputs": [
    {
     "data": {
      "text/plain": [
       "(16,)"
      ]
     },
     "execution_count": 24,
     "metadata": {},
     "output_type": "execute_result"
    }
   ],
   "source": [
    "friends = [\"Joey\", \"Monica\", \"Chandler\", \"Rachel\", \"Ross\", \"Phoebe\"]\n",
    "friends = [len(x) for x in friends if x[0] == 'R']\n",
    "friends = [x ** 2 for x in friends if x < 10]\n",
    "tuple(x for x in friends if x < 36)"
   ]
  },
  {
   "cell_type": "markdown",
   "metadata": {},
   "source": [
    "This is a little better, but it can be a lot simpler.  We will be looking at many ways to make it easier for us to transform and filter data in later units."
   ]
  },
  {
   "cell_type": "markdown",
   "metadata": {
    "slideshow": {
     "slide_type": "slide"
    }
   },
   "source": [
    "## Review: Class Discussion\n",
    "\n",
    "  1. Python has a lot of symbols in its syntax.  What are they, and what are they used for?\n",
    "  2. What are functions?  How do you use them?  Where can you get them?\n",
    "  3. What kinds of data collections are built-in to Python?  What concepts do they represent?\n",
    "  4. What is a \"logical expression\"?  What is a \"state change\"?\n",
    "  5. What is the \"for...in\" statement about?  How do you use it?\n",
    "  6. What is the \"if\" statement about?  How do you use it?\n",
    "  7. Would you like a coffee break?"
   ]
  }
 ],
 "metadata": {
  "kernelspec": {
   "display_name": "Python 3",
   "language": "python",
   "name": "python3"
  },
  "language_info": {
   "codemirror_mode": {
    "name": "ipython",
    "version": 3
   },
   "file_extension": ".py",
   "mimetype": "text/x-python",
   "name": "python",
   "nbconvert_exporter": "python",
   "pygments_lexer": "ipython3",
   "version": "3.7.4"
  }
 },
 "nbformat": 4,
 "nbformat_minor": 4
}
